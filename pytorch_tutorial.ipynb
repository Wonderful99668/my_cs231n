{
 "cells": [
  {
   "cell_type": "code",
   "execution_count": 1,
   "metadata": {},
   "outputs": [],
   "source": [
    "%matplotlib inline"
   ]
  },
  {
   "cell_type": "markdown",
   "metadata": {},
   "source": [
    "\n",
    "Training an MNIST Classifier\n",
    "=====\n",
    "## Custom Dataset, Model Checkpointing, and Fine-tune"
   ]
  },
  {
   "cell_type": "code",
   "execution_count": 2,
   "metadata": {},
   "outputs": [],
   "source": [
    "import torch\n",
    "import torch.nn as nn\n",
    "import torch.optim as optim\n",
    "import torch.nn.functional as F\n",
    "import torchvision\n",
    "import torchvision.transforms as transforms\n",
    "from torch.utils.data import Dataset, DataLoader\n",
    "import glob\n",
    "import os.path as osp\n",
    "import numpy as np\n",
    "from PIL import Image"
   ]
  },
  {
   "cell_type": "markdown",
   "metadata": {},
   "source": [
    "## 1. Custom Dataset\n",
    "PyTorch has many built-in datasets such as MNIST and CIFAR. In this tutorial, we demonstrate how to write your own dataset by implementing a custom MNIST dataset class. Use [this link](https://github.com/myleott/mnist_png/blob/master/mnist_png.tar.gz?raw=true) to download the mnist png dataset."
   ]
  },
  {
   "cell_type": "code",
   "execution_count": 3,
   "metadata": {},
   "outputs": [],
   "source": [
    "class MNIST(Dataset):\n",
    "    \"\"\"\n",
    "    A customized data loader for MNIST.\n",
    "    \"\"\"\n",
    "    def __init__(self,\n",
    "                 root,\n",
    "                 transform=None,\n",
    "                 preload=False):\n",
    "        \"\"\" Intialize the MNIST dataset\n",
    "        \n",
    "        Args:\n",
    "            - root: root directory of the dataset\n",
    "            - tranform: a custom tranform function\n",
    "            - preload: if preload the dataset into memory\n",
    "        \"\"\"\n",
    "        self.images = None\n",
    "        self.labels = None\n",
    "        self.filenames = []\n",
    "        self.root = root\n",
    "        self.transform = transform\n",
    "\n",
    "        # read filenames\n",
    "        for i in range(10):\n",
    "        #  filenames 是文件目录下所有数字图片地址的集合 \n",
    "        #  此filenames和self.filenames不是同一个，该filenames只是一个中间变量       \n",
    "            filenames = glob.glob(osp.join(root, str(i), '*.png')) #获取'root+str(i)’ 目录下的全部图片\n",
    "            for fn in filenames:\n",
    "                self.filenames.append((fn, i)) # (filename, label) tuple \n",
    "                \n",
    "        # if preload dataset into memory\n",
    "        if preload:\n",
    "            self._preload()\n",
    "            \n",
    "        self.len = len(self.filenames)\n",
    "                              \n",
    "    def _preload(self):\n",
    "        \"\"\"\n",
    "        Preload dataset to memory\n",
    "        \"\"\"\n",
    "        self.labels = []\n",
    "        self.images = []\n",
    "        for image_fn, label in self.filenames:            \n",
    "            # load images\n",
    "            image = Image.open(image_fn)\n",
    "            # avoid too many opened files bug\n",
    "            self.images.append(image.copy())\n",
    "            image.close()\n",
    "            self.labels.append(label)\n",
    "\n",
    "    # __getitem__ 可以让对象实现迭代功能            \n",
    "    def __getitem__(self, index):\n",
    "        \"\"\" Get a sample from the dataset\n",
    "        \"\"\"\n",
    "        if self.images is not None:\n",
    "            # If dataset is preloaded\n",
    "            image = self.images[index]\n",
    "            label = self.labels[index]\n",
    "        else:\n",
    "            # If on-demand data loading\n",
    "            image_fn, label = self.filenames[index]\n",
    "            image = Image.open(image_fn)\n",
    "            \n",
    "        # May use transform function to transform samples\n",
    "        # e.g., random crop, whitening\n",
    "        if self.transform is not None:\n",
    "            image = self.transform(image)\n",
    "            \n",
    "        # iterate images and labels\n",
    "        return image, label\n",
    "\n",
    "    def __len__(self):\n",
    "        \"\"\"\n",
    "        Total number of samples in the dataset\n",
    "        \"\"\"\n",
    "        return self.len"
   ]
  },
  {
   "cell_type": "code",
   "execution_count": 6,
   "metadata": {},
   "outputs": [],
   "source": [
    "# Create the MNIST dataset. \n",
    "# transforms.ToTensor() automatically converts PIL images to torch tensors with range [0, 1]\n",
    "# \n",
    "trainset = MNIST(\n",
    "    root='/Users/wonderful_xue/code_repo/data/mnist_png/training',\n",
    "    preload=True, transform=transforms.ToTensor(),\n",
    ")\n",
    "# Use the torch dataloader to iterate through the dataset\n",
    "trainset_loader = DataLoader(trainset, batch_size=64, shuffle=True, num_workers=1)\n",
    "\n",
    "# load the testset\n",
    "testset = MNIST(\n",
    "    root='/Users/wonderful_xue/code_repo/data/mnist_png/testing',\n",
    "    preload=True, transform=transforms.ToTensor(),\n",
    ")\n",
    "# Use the torch dataloader to iterate through the dataset\n",
    "testset_loader = DataLoader(testset, batch_size=1000, shuffle=False, num_workers=1)"
   ]
  },
  {
   "cell_type": "code",
   "execution_count": 7,
   "metadata": {},
   "outputs": [
    {
     "name": "stdout",
     "output_type": "stream",
     "text": [
      "60000\n",
      "10000\n"
     ]
    }
   ],
   "source": [
    "print(len(trainset))\n",
    "print(len(testset))"
   ]
  },
  {
   "cell_type": "markdown",
   "metadata": {},
   "source": [
    "### Visualize the dataset"
   ]
  },
  {
   "cell_type": "code",
   "execution_count": 10,
   "metadata": {},
   "outputs": [
    {
     "name": "stdout",
     "output_type": "stream",
     "text": [
      "64\n",
      "    7     5     0     0     9     5     1     2     8     6     5     6     7     3     6     9\n"
     ]
    },
    {
     "data": {
      "image/png": "[encoded data removed]",
      "text/plain": [
       "<matplotlib.figure.Figure at 0x10ec5e240>"
      ]
     },
     "metadata": {},
     "output_type": "display_data"
    }
   ],
   "source": [
    "import matplotlib.pyplot as plt\n",
    "import numpy as np\n",
    "\n",
    "# functions to show an image\n",
    "def imshow(img):\n",
    "    npimg = img.numpy() # 将tensor转换为narray\n",
    "    \n",
    "    # plt.imshow() 输入格式： (image_size, image_size, channel)\n",
    "    # imshow输入图片img的格式为：(channel, image_size, image_size)\n",
    "    # 因此需要用np.transpose进行格式转换\n",
    "    plt.imshow(np.transpose(npimg, (1, 2, 0)))\n",
    "\n",
    "# get some random training images\n",
    "dataiter = iter(trainset_loader) # randomly get a mini_batch, dataiter is a minibatch instance\n",
    "images, labels = dataiter.next() # get images and corresponding labels from minibatch\n",
    "labels = labels.numpy()\n",
    "print(len(labels))\n",
    "\n",
    "# show images\n",
    "imshow(torchvision.utils.make_grid(images))\n",
    "# print labels\n",
    "print(' '.join('%5s' % labels[j] for j in range(16)))"
   ]
  },
  {
   "cell_type": "code",
   "execution_count": 11,
   "metadata": {},
   "outputs": [
    {
     "name": "stdout",
     "output_type": "stream",
     "text": [
      "cpu\n"
     ]
    }
   ],
   "source": [
    "# Use GPU if available, otherwise stick with cpu\n",
    "use_cuda = torch.cuda.is_available()\n",
    "torch.manual_seed(123)\n",
    "device = torch.device(cuda if use_cuda else \"cpu\")\n",
    "print(device)"
   ]
  },
  {
   "cell_type": "markdown",
   "metadata": {},
   "source": [
    "### Define a Conv Net\n"
   ]
  },
  {
   "cell_type": "code",
   "execution_count": 12,
   "metadata": {},
   "outputs": [],
   "source": [
    "class Net(nn.Module):\n",
    "    def __init__(self):\n",
    "        super(Net, self).__init__()\n",
    "        # nn.conv2d(in_channels, out_channels, kernel_size)\n",
    "        self.conv1 = nn.Conv2d(1, 10, kernel_size=5)\n",
    "        self.conv2 = nn.Conv2d(10, 20, kernel_size=5)\n",
    "        self.conv2_drop = nn.Dropout2d()\n",
    "        self.fc1 = nn.Linear(320, 50)\n",
    "        self.fc2 = nn.Linear(50, 10)\n",
    "\n",
    "    def forward(self, x):\n",
    "        x = F.relu(F.max_pool2d(self.conv1(x), 2)) # conv + max_pool + relu\n",
    "        x = F.relu(F.max_pool2d(self.conv2_drop(self.conv2(x)), 2))\n",
    "        x = x.view(-1, 320)\n",
    "        x = F.relu(self.fc1(x))\n",
    "        x = F.dropout(x, training=self.training)\n",
    "        x = self.fc2(x)\n",
    "        return F.log_softmax(x, dim=1)\n",
    "\n",
    "model = Net().to(device)\n",
    "optimizer = optim.SGD(model.parameters(), lr=0.001, momentum=0.9)"
   ]
  },
  {
   "cell_type": "markdown",
   "metadata": {},
   "source": [
    "### Train the network"
   ]
  },
  {
   "cell_type": "code",
   "execution_count": 13,
   "metadata": {},
   "outputs": [],
   "source": [
    "def train(epoch, log_interval=100):\n",
    "    model.train()  # set training mode\n",
    "    iteration = 0\n",
    "    for ep in range(epoch):\n",
    "        for batch_idx, (data, target) in enumerate(trainset_loader):\n",
    "            data, target = data.to(device), target.to(device)\n",
    "            optimizer.zero_grad()\n",
    "            output = model(data)\n",
    "            loss = F.nll_loss(output, target)\n",
    "            loss.backward()\n",
    "            optimizer.step()\n",
    "            if iteration % log_interval == 0:\n",
    "                print('Train Epoch: {} [{}/{} ({:.0f}%)]\\tLoss: {:.6f}'.format(\n",
    "                    ep, batch_idx * len(data), len(trainset_loader.dataset),\n",
    "                    100. * batch_idx / len(trainset_loader), loss.item()))\n",
    "            iteration += 1\n",
    "        test()"
   ]
  },
  {
   "cell_type": "code",
   "execution_count": 14,
   "metadata": {},
   "outputs": [],
   "source": [
    "def test():\n",
    "    model.eval()  # set evaluation mode\n",
    "    test_loss = 0\n",
    "    correct = 0\n",
    "    with torch.no_grad(): # no backprop at test time\n",
    "        for data, target in testset_loader:\n",
    "            data, target = data.to(device), target.to(device)\n",
    "            output = model(data)\n",
    "            test_loss += F.nll_loss(output, target, size_average=False).item() # sum up batch loss\n",
    "            pred = output.max(1, keepdim=True)[1] # get the index of the max log-probability\n",
    "            correct += pred.eq(target.view_as(pred)).sum().item()\n",
    "\n",
    "    test_loss /= len(testset_loader.dataset)\n",
    "    print('\\nTest set: Average loss: {:.4f}, Accuracy: {}/{} ({:.0f}%)\\n'.format(\n",
    "        test_loss, correct, len(testset_loader.dataset),\n",
    "        100. * correct / len(testset_loader.dataset)))"
   ]
  },
  {
   "cell_type": "code",
   "execution_count": 15,
   "metadata": {},
   "outputs": [
    {
     "name": "stdout",
     "output_type": "stream",
     "text": [
      "Train Epoch: 0 [0/60000 (0%)]\tLoss: 2.294989\n",
      "Train Epoch: 0 [6400/60000 (11%)]\tLoss: 2.288002\n",
      "Train Epoch: 0 [12800/60000 (21%)]\tLoss: 2.290994\n",
      "Train Epoch: 0 [19200/60000 (32%)]\tLoss: 2.294874\n",
      "Train Epoch: 0 [25600/60000 (43%)]\tLoss: 2.233818\n",
      "Train Epoch: 0 [32000/60000 (53%)]\tLoss: 2.059136\n",
      "Train Epoch: 0 [38400/60000 (64%)]\tLoss: 1.815340\n",
      "Train Epoch: 0 [44800/60000 (75%)]\tLoss: 1.695661\n",
      "Train Epoch: 0 [51200/60000 (85%)]\tLoss: 1.451350\n",
      "Train Epoch: 0 [57600/60000 (96%)]\tLoss: 1.271619\n"
     ]
    },
    {
     "name": "stderr",
     "output_type": "stream",
     "text": [
      "/Users/wonderful_xue/anaconda3/lib/python3.6/site-packages/torch/nn/functional.py:52: UserWarning: size_average and reduce args will be deprecated, please use reduction='sum' instead.\n",
      "  warnings.warn(warning.format(ret))\n"
     ]
    },
    {
     "name": "stdout",
     "output_type": "stream",
     "text": [
      "\n",
      "Test set: Average loss: 0.7424, Accuracy: 8215/10000 (82%)\n",
      "\n",
      "Train Epoch: 1 [3968/60000 (7%)]\tLoss: 0.446739\n",
      "Train Epoch: 1 [10368/60000 (17%)]\tLoss: 0.482560\n",
      "Train Epoch: 1 [16768/60000 (28%)]\tLoss: 0.373438\n",
      "Train Epoch: 1 [23168/60000 (39%)]\tLoss: 0.322421\n",
      "Train Epoch: 1 [29568/60000 (49%)]\tLoss: 0.301749\n",
      "Train Epoch: 1 [35968/60000 (60%)]\tLoss: 0.276302\n",
      "Train Epoch: 1 [42368/60000 (71%)]\tLoss: 0.245791\n",
      "Train Epoch: 1 [48768/60000 (81%)]\tLoss: 0.371365\n",
      "Train Epoch: 1 [55168/60000 (92%)]\tLoss: 0.341089\n",
      "\n",
      "Test set: Average loss: 0.2420, Accuracy: 9288/10000 (93%)\n",
      "\n",
      "Train Epoch: 2 [1536/60000 (3%)]\tLoss: 0.266881\n",
      "Train Epoch: 2 [7936/60000 (13%)]\tLoss: 0.226167\n",
      "Train Epoch: 2 [14336/60000 (24%)]\tLoss: 0.184591\n",
      "Train Epoch: 2 [20736/60000 (35%)]\tLoss: 0.181488\n",
      "Train Epoch: 2 [27136/60000 (45%)]\tLoss: 0.200786\n",
      "Train Epoch: 2 [33536/60000 (56%)]\tLoss: 0.105905\n",
      "Train Epoch: 2 [39936/60000 (67%)]\tLoss: 0.266722\n",
      "Train Epoch: 2 [46336/60000 (77%)]\tLoss: 0.175358\n",
      "Train Epoch: 2 [52736/60000 (88%)]\tLoss: 0.276726\n",
      "Train Epoch: 2 [59136/60000 (99%)]\tLoss: 0.089120\n",
      "\n",
      "Test set: Average loss: 0.1610, Accuracy: 9529/10000 (95%)\n",
      "\n",
      "Train Epoch: 3 [5504/60000 (9%)]\tLoss: 0.256061\n",
      "Train Epoch: 3 [11904/60000 (20%)]\tLoss: 0.087238\n",
      "Train Epoch: 3 [18304/60000 (30%)]\tLoss: 0.255443\n",
      "Train Epoch: 3 [24704/60000 (41%)]\tLoss: 0.090583\n",
      "Train Epoch: 3 [31104/60000 (52%)]\tLoss: 0.065722\n",
      "Train Epoch: 3 [37504/60000 (62%)]\tLoss: 0.082754\n",
      "Train Epoch: 3 [43904/60000 (73%)]\tLoss: 0.068373\n",
      "Train Epoch: 3 [50304/60000 (84%)]\tLoss: 0.094005\n",
      "Train Epoch: 3 [56704/60000 (94%)]\tLoss: 0.112380\n",
      "\n",
      "Test set: Average loss: 0.1291, Accuracy: 9615/10000 (96%)\n",
      "\n",
      "Train Epoch: 4 [3072/60000 (5%)]\tLoss: 0.084689\n",
      "Train Epoch: 4 [9472/60000 (16%)]\tLoss: 0.225765\n",
      "Train Epoch: 4 [15872/60000 (26%)]\tLoss: 0.153797\n",
      "Train Epoch: 4 [22272/60000 (37%)]\tLoss: 0.182374\n",
      "Train Epoch: 4 [28672/60000 (48%)]\tLoss: 0.085247\n",
      "Train Epoch: 4 [35072/60000 (58%)]\tLoss: 0.179046\n",
      "Train Epoch: 4 [41472/60000 (69%)]\tLoss: 0.090082\n",
      "Train Epoch: 4 [47872/60000 (80%)]\tLoss: 0.047820\n",
      "Train Epoch: 4 [54272/60000 (90%)]\tLoss: 0.202969\n",
      "\n",
      "Test set: Average loss: 0.1052, Accuracy: 9676/10000 (97%)\n",
      "\n"
     ]
    }
   ],
   "source": [
    "train(5)  # train 5 epochs should get you to about 97% accuracy"
   ]
  },
  {
   "cell_type": "markdown",
   "metadata": {},
   "source": [
    "## 2. Save the model (model checkpointing)\n",
    "\n",
    "Now we have a model! Obviously we do not want to retrain the model everytime we want to use it. Plus if you are training a super big model, you probably want to save checkpoint periodically so that you can always fall back to the last checkpoint in case something bad happened or you simply want to test models at different training iterations.\n",
    "\n",
    "Model checkpointing is fairly simple in PyTorch. First, we define a helper function that can save a model to the disk"
   ]
  },
  {
   "cell_type": "code",
   "execution_count": 16,
   "metadata": {},
   "outputs": [],
   "source": [
    "def save_checkpoint(checkpoint_path, model, optimizer):\n",
    "    state = {'state_dict': model.state_dict(),\n",
    "             'optimizer' : optimizer.state_dict()}\n",
    "    torch.save(state, checkpoint_path)\n",
    "    print('model saved to %s' % checkpoint_path)\n",
    "    \n",
    "def load_checkpoint(checkpoint_path, model, optimizer):\n",
    "    state = torch.load(checkpoint_path)\n",
    "    model.load_state_dict(state['state_dict'])\n",
    "    optimizer.load_state_dict(state['optimizer'])\n",
    "    print('model loaded from %s' % checkpoint_path)"
   ]
  },
  {
   "cell_type": "code",
   "execution_count": 17,
   "metadata": {},
   "outputs": [
    {
     "name": "stderr",
     "output_type": "stream",
     "text": [
      "/Users/wonderful_xue/anaconda3/lib/python3.6/site-packages/torch/nn/functional.py:52: UserWarning: size_average and reduce args will be deprecated, please use reduction='sum' instead.\n",
      "  warnings.warn(warning.format(ret))\n"
     ]
    },
    {
     "name": "stdout",
     "output_type": "stream",
     "text": [
      "\n",
      "Test set: Average loss: 2.3068, Accuracy: 964/10000 (10%)\n",
      "\n"
     ]
    }
   ],
   "source": [
    "# create a brand new model\n",
    "model = Net().to(device)\n",
    "optimizer = optim.SGD(model.parameters(), lr=0.001, momentum=0.9)\n",
    "test()"
   ]
  },
  {
   "cell_type": "markdown",
   "metadata": {},
   "source": [
    "### Define a training loop with model checkpointing"
   ]
  },
  {
   "cell_type": "code",
   "execution_count": 18,
   "metadata": {},
   "outputs": [],
   "source": [
    "def train_save(epoch, save_interval, log_interval=100):\n",
    "    model.train()  # set training mode\n",
    "    iteration = 0\n",
    "    for ep in range(epoch):\n",
    "        for batch_idx, (data, target) in enumerate(trainset_loader):\n",
    "            data, target = data.to(device), target.to(device)\n",
    "            optimizer.zero_grad()\n",
    "            output = model(data)\n",
    "            loss = F.nll_loss(output, target)\n",
    "            loss.backward()\n",
    "            optimizer.step()\n",
    "            if iteration % log_interval == 0:\n",
    "                print('Train Epoch: {} [{}/{} ({:.0f}%)]\\tLoss: {:.6f}'.format(\n",
    "                    ep, batch_idx * len(data), len(trainset_loader.dataset),\n",
    "                    100. * batch_idx / len(trainset_loader), loss.item()))\n",
    "            if iteration % save_interval == 0 and iteration > 0:\n",
    "                save_checkpoint('check_points/mnist_test/mnist-%i.pth' % iteration, model, optimizer)\n",
    "            iteration += 1\n",
    "        test()\n",
    "    \n",
    "    # save the final model\n",
    "    save_checkpoint('check_points/mnist_test/mnist-%i.pth' % iteration, model, optimizer)"
   ]
  },
  {
   "cell_type": "code",
   "execution_count": 19,
   "metadata": {},
   "outputs": [
    {
     "name": "stdout",
     "output_type": "stream",
     "text": [
      "Train Epoch: 0 [0/60000 (0%)]\tLoss: 2.339286\n",
      "Train Epoch: 0 [6400/60000 (11%)]\tLoss: 2.300384\n",
      "Train Epoch: 0 [12800/60000 (21%)]\tLoss: 2.280093\n",
      "Train Epoch: 0 [19200/60000 (32%)]\tLoss: 2.257166\n",
      "Train Epoch: 0 [25600/60000 (43%)]\tLoss: 2.239334\n",
      "Train Epoch: 0 [32000/60000 (53%)]\tLoss: 2.027485\n",
      "model saved to check_points/mnist-500.pth\n",
      "Train Epoch: 0 [38400/60000 (64%)]\tLoss: 1.628223\n",
      "Train Epoch: 0 [44800/60000 (75%)]\tLoss: 1.326508\n",
      "Train Epoch: 0 [51200/60000 (85%)]\tLoss: 1.000160\n",
      "Train Epoch: 0 [57600/60000 (96%)]\tLoss: 1.009896\n"
     ]
    },
    {
     "name": "stderr",
     "output_type": "stream",
     "text": [
      "/Users/wonderful_xue/anaconda3/lib/python3.6/site-packages/torch/nn/functional.py:52: UserWarning: size_average and reduce args will be deprecated, please use reduction='sum' instead.\n",
      "  warnings.warn(warning.format(ret))\n"
     ]
    },
    {
     "name": "stdout",
     "output_type": "stream",
     "text": [
      "\n",
      "Test set: Average loss: 0.6130, Accuracy: 8297/10000 (83%)\n",
      "\n",
      "Train Epoch: 1 [3968/60000 (7%)]\tLoss: 0.551886\n",
      "model saved to check_points/mnist-1000.pth\n",
      "Train Epoch: 1 [10368/60000 (17%)]\tLoss: 0.392269\n",
      "Train Epoch: 1 [16768/60000 (28%)]\tLoss: 0.449837\n",
      "Train Epoch: 1 [23168/60000 (39%)]\tLoss: 0.325046\n",
      "Train Epoch: 1 [29568/60000 (49%)]\tLoss: 0.206824\n",
      "Train Epoch: 1 [35968/60000 (60%)]\tLoss: 0.305269\n",
      "model saved to check_points/mnist-1500.pth\n",
      "Train Epoch: 1 [42368/60000 (71%)]\tLoss: 0.287695\n",
      "Train Epoch: 1 [48768/60000 (81%)]\tLoss: 0.228056\n",
      "Train Epoch: 1 [55168/60000 (92%)]\tLoss: 0.280929\n",
      "\n",
      "Test set: Average loss: 0.2715, Accuracy: 9161/10000 (92%)\n",
      "\n",
      "Train Epoch: 2 [1536/60000 (3%)]\tLoss: 0.159077\n",
      "Train Epoch: 2 [7936/60000 (13%)]\tLoss: 0.396871\n",
      "model saved to check_points/mnist-2000.pth\n",
      "Train Epoch: 2 [14336/60000 (24%)]\tLoss: 0.351935\n",
      "Train Epoch: 2 [20736/60000 (35%)]\tLoss: 0.111502\n",
      "Train Epoch: 2 [27136/60000 (45%)]\tLoss: 0.105744\n",
      "Train Epoch: 2 [33536/60000 (56%)]\tLoss: 0.256463\n",
      "Train Epoch: 2 [39936/60000 (67%)]\tLoss: 0.140646\n",
      "model saved to check_points/mnist-2500.pth\n",
      "Train Epoch: 2 [46336/60000 (77%)]\tLoss: 0.177134\n",
      "Train Epoch: 2 [52736/60000 (88%)]\tLoss: 0.221255\n",
      "Train Epoch: 2 [59136/60000 (99%)]\tLoss: 0.235597\n",
      "\n",
      "Test set: Average loss: 0.1904, Accuracy: 9445/10000 (94%)\n",
      "\n",
      "Train Epoch: 3 [5504/60000 (9%)]\tLoss: 0.232506\n",
      "Train Epoch: 3 [11904/60000 (20%)]\tLoss: 0.095554\n",
      "model saved to check_points/mnist-3000.pth\n",
      "Train Epoch: 3 [18304/60000 (30%)]\tLoss: 0.286197\n",
      "Train Epoch: 3 [24704/60000 (41%)]\tLoss: 0.401177\n",
      "Train Epoch: 3 [31104/60000 (52%)]\tLoss: 0.099590\n",
      "Train Epoch: 3 [37504/60000 (62%)]\tLoss: 0.180894\n",
      "Train Epoch: 3 [43904/60000 (73%)]\tLoss: 0.182923\n",
      "model saved to check_points/mnist-3500.pth\n",
      "Train Epoch: 3 [50304/60000 (84%)]\tLoss: 0.071548\n",
      "Train Epoch: 3 [56704/60000 (94%)]\tLoss: 0.109042\n",
      "\n",
      "Test set: Average loss: 0.1391, Accuracy: 9588/10000 (96%)\n",
      "\n",
      "Train Epoch: 4 [3072/60000 (5%)]\tLoss: 0.094272\n",
      "Train Epoch: 4 [9472/60000 (16%)]\tLoss: 0.105583\n",
      "Train Epoch: 4 [15872/60000 (26%)]\tLoss: 0.039459\n",
      "model saved to check_points/mnist-4000.pth\n",
      "Train Epoch: 4 [22272/60000 (37%)]\tLoss: 0.129737\n",
      "Train Epoch: 4 [28672/60000 (48%)]\tLoss: 0.227107\n",
      "Train Epoch: 4 [35072/60000 (58%)]\tLoss: 0.212602\n",
      "Train Epoch: 4 [41472/60000 (69%)]\tLoss: 0.142270\n",
      "Train Epoch: 4 [47872/60000 (80%)]\tLoss: 0.133547\n",
      "model saved to check_points/mnist-4500.pth\n",
      "Train Epoch: 4 [54272/60000 (90%)]\tLoss: 0.209868\n",
      "\n",
      "Test set: Average loss: 0.1146, Accuracy: 9658/10000 (97%)\n",
      "\n",
      "model saved to check_points/mnist-4690.pth\n"
     ]
    }
   ],
   "source": [
    "train_save(5, 500, 100)"
   ]
  },
  {
   "cell_type": "code",
   "execution_count": 21,
   "metadata": {},
   "outputs": [
    {
     "name": "stdout",
     "output_type": "stream",
     "text": [
      "model loaded from check_points/mnist-4690.pth\n"
     ]
    },
    {
     "name": "stderr",
     "output_type": "stream",
     "text": [
      "/Users/wonderful_xue/anaconda3/lib/python3.6/site-packages/torch/nn/functional.py:52: UserWarning: size_average and reduce args will be deprecated, please use reduction='sum' instead.\n",
      "  warnings.warn(warning.format(ret))\n"
     ]
    },
    {
     "name": "stdout",
     "output_type": "stream",
     "text": [
      "\n",
      "Test set: Average loss: 0.1146, Accuracy: 9658/10000 (97%)\n",
      "\n"
     ]
    }
   ],
   "source": [
    "# create a new model\n",
    "model = Net().to(device)\n",
    "optimizer = optim.SGD(model.parameters(), lr=0.001, momentum=0.9)\n",
    "# load from the final checkpoint\n",
    "load_checkpoint('check_points/mnist_test/mnist-4690.pth', model, optimizer)\n",
    "# should give you the final model accuracy\n",
    "test()"
   ]
  },
  {
   "cell_type": "markdown",
   "metadata": {},
   "source": [
    "## 3. Fine-tune a model\n",
    "\n",
    "Sometimes you want to fine-tune a pretrained model instead of training a model from scratch. For example, if you want to train a model on a new dataset that contains natural images. To achieve the best performance, you can start with a model that's fully trained on ImageNet and fine-tune the model.\n",
    "\n",
    "Finetuning a model in PyTorch is super easy! First, let's find out what we saved in a checkpoint"
   ]
  },
  {
   "cell_type": "code",
   "execution_count": 22,
   "metadata": {},
   "outputs": [
    {
     "name": "stdout",
     "output_type": "stream",
     "text": [
      "odict_keys(['conv1.weight', 'conv1.bias', 'conv2.weight', 'conv2.bias', 'fc1.weight', 'fc1.bias', 'fc2.weight', 'fc2.bias'])\n"
     ]
    }
   ],
   "source": [
    "# What's in a state dict?\n",
    "print(model.state_dict().keys())"
   ]
  },
  {
   "cell_type": "markdown",
   "metadata": {},
   "source": [
    "### Finetune the fc layers\n",
    "\n",
    "Now say we want to load the conv layers from the checkpoint and train the fc layers. We can simply load a subset of the state dict with the selected names"
   ]
  },
  {
   "cell_type": "code",
   "execution_count": 24,
   "metadata": {},
   "outputs": [
    {
     "name": "stdout",
     "output_type": "stream",
     "text": [
      "dict_keys(['state_dict', 'optimizer'])\n"
     ]
    }
   ],
   "source": [
    "checkpoint = torch.load('check_points/mnist_test/mnist-4690.pth')\n",
    "print(checkpoint.keys())\n",
    "states_to_load = {}\n",
    "for name, param in checkpoint['state_dict'].items():\n",
    "    if name.startswith('conv'):\n",
    "        states_to_load[name] = param\n",
    "\n",
    "# Construct a new state dict in which the layers we want\n",
    "# to import from the checkpoint is update with the parameters\n",
    "# from the checkpoint\n",
    "model_state = model.state_dict()\n",
    "model_state.update(states_to_load)\n",
    "        \n",
    "model = Net().to(device)\n",
    "model.load_state_dict(model_state)\n",
    "optimizer = optim.SGD(model.parameters(), lr=0.001, momentum=0.9)"
   ]
  },
  {
   "cell_type": "code",
   "execution_count": 25,
   "metadata": {},
   "outputs": [
    {
     "name": "stdout",
     "output_type": "stream",
     "text": [
      "Train Epoch: 0 [0/60000 (0%)]\tLoss: 3.128960\n",
      "Train Epoch: 0 [6400/60000 (11%)]\tLoss: 0.825592\n",
      "Train Epoch: 0 [12800/60000 (21%)]\tLoss: 0.815328\n",
      "Train Epoch: 0 [19200/60000 (32%)]\tLoss: 0.509185\n",
      "Train Epoch: 0 [25600/60000 (43%)]\tLoss: 0.467545\n",
      "Train Epoch: 0 [32000/60000 (53%)]\tLoss: 0.547650\n",
      "Train Epoch: 0 [38400/60000 (64%)]\tLoss: 0.582346\n",
      "Train Epoch: 0 [44800/60000 (75%)]\tLoss: 0.631192\n",
      "Train Epoch: 0 [51200/60000 (85%)]\tLoss: 0.536061\n",
      "Train Epoch: 0 [57600/60000 (96%)]\tLoss: 0.339833\n"
     ]
    },
    {
     "name": "stderr",
     "output_type": "stream",
     "text": [
      "/Users/wonderful_xue/anaconda3/lib/python3.6/site-packages/torch/nn/functional.py:52: UserWarning: size_average and reduce args will be deprecated, please use reduction='sum' instead.\n",
      "  warnings.warn(warning.format(ret))\n"
     ]
    },
    {
     "name": "stdout",
     "output_type": "stream",
     "text": [
      "\n",
      "Test set: Average loss: 0.1679, Accuracy: 9520/10000 (95%)\n",
      "\n"
     ]
    }
   ],
   "source": [
    "train(1)  # training 1 epoch will get you to 93%!"
   ]
  },
  {
   "cell_type": "markdown",
   "metadata": {},
   "source": [
    "### Import pretrained weights in a different model\n",
    "\n",
    "We can even use the pretrained conv layers in a different model."
   ]
  },
  {
   "cell_type": "code",
   "execution_count": 26,
   "metadata": {},
   "outputs": [],
   "source": [
    "class SmallNet(nn.Module):\n",
    "    def __init__(self):\n",
    "        super(SmallNet, self).__init__()\n",
    "        self.conv1 = nn.Conv2d(1, 10, kernel_size=5)\n",
    "        self.conv2 = nn.Conv2d(10, 20, kernel_size=5)\n",
    "        self.conv2_drop = nn.Dropout2d()\n",
    "        self.fc1 = nn.Linear(320, 10)\n",
    "\n",
    "    def forward(self, x):\n",
    "        x = F.relu(F.max_pool2d(self.conv1(x), 2))\n",
    "        x = F.relu(F.max_pool2d(self.conv2_drop(self.conv2(x)), 2))\n",
    "        x = x.view(-1, 320)\n",
    "        x = self.fc1(x)\n",
    "        return F.log_softmax(x, dim=1)\n",
    "\n",
    "model = SmallNet().to(device)\n",
    "optimizer = optim.SGD(model.parameters(), lr=0.001, momentum=0.9)"
   ]
  },
  {
   "cell_type": "code",
   "execution_count": 27,
   "metadata": {},
   "outputs": [],
   "source": [
    "checkpoint = torch.load('check_points/mnist_test/mnist-4690.pth')\n",
    "states_to_load = {}\n",
    "for name, param in checkpoint['state_dict'].items():\n",
    "    if name.startswith('conv'):\n",
    "        states_to_load[name] = param\n",
    "\n",
    "# Construct a new state dict in which the layers we want\n",
    "# to import from the checkpoint is update with the parameters\n",
    "# from the checkpoint\n",
    "model_state = model.state_dict()\n",
    "model_state.update(states_to_load)\n",
    "        \n",
    "model.load_state_dict(model_state)"
   ]
  },
  {
   "cell_type": "code",
   "execution_count": 28,
   "metadata": {},
   "outputs": [
    {
     "name": "stdout",
     "output_type": "stream",
     "text": [
      "Train Epoch: 0 [0/60000 (0%)]\tLoss: 4.389024\n",
      "Train Epoch: 0 [6400/60000 (11%)]\tLoss: 0.395017\n",
      "Train Epoch: 0 [12800/60000 (21%)]\tLoss: 0.484016\n",
      "Train Epoch: 0 [19200/60000 (32%)]\tLoss: 0.300642\n",
      "Train Epoch: 0 [25600/60000 (43%)]\tLoss: 0.369477\n",
      "Train Epoch: 0 [32000/60000 (53%)]\tLoss: 0.265110\n",
      "Train Epoch: 0 [38400/60000 (64%)]\tLoss: 0.374848\n",
      "Train Epoch: 0 [44800/60000 (75%)]\tLoss: 0.619706\n",
      "Train Epoch: 0 [51200/60000 (85%)]\tLoss: 0.244080\n",
      "Train Epoch: 0 [57600/60000 (96%)]\tLoss: 0.128967\n"
     ]
    },
    {
     "name": "stderr",
     "output_type": "stream",
     "text": [
      "/Users/wonderful_xue/anaconda3/lib/python3.6/site-packages/torch/nn/functional.py:52: UserWarning: size_average and reduce args will be deprecated, please use reduction='sum' instead.\n",
      "  warnings.warn(warning.format(ret))\n"
     ]
    },
    {
     "name": "stdout",
     "output_type": "stream",
     "text": [
      "\n",
      "Test set: Average loss: 0.1630, Accuracy: 9490/10000 (95%)\n",
      "\n"
     ]
    }
   ],
   "source": [
    "train(1)  # training 1 epoch will get you to 93%!"
   ]
  },
  {
   "cell_type": "code",
   "execution_count": null,
   "metadata": {},
   "outputs": [],
   "source": []
  }
 ],
 "metadata": {
  "kernelspec": {
   "display_name": "Python 3",
   "language": "python",
   "name": "python3"
  },
  "language_info": {
   "codemirror_mode": {
    "name": "ipython",
    "version": 3
   },
   "file_extension": ".py",
   "mimetype": "text/x-python",
   "name": "python",
   "nbconvert_exporter": "python",
   "pygments_lexer": "ipython3",
   "version": "3.6.4"
  }
 },
 "nbformat": 4,
 "nbformat_minor": 1
}
